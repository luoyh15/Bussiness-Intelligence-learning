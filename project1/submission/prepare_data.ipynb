{
 "cells": [
  {
   "cell_type": "code",
   "execution_count": 1,
   "metadata": {},
   "outputs": [],
   "source": [
    "# %config Completer.use_jedi = False\n",
    "import numpy as np\n",
    "import pandas as pd\n",
    "import datetime as dt\n",
    "import matplotlib.pyplot as plt"
   ]
  },
  {
   "cell_type": "markdown",
   "metadata": {},
   "source": [
    "**read raw data**"
   ]
  },
  {
   "cell_type": "code",
   "execution_count": 2,
   "metadata": {},
   "outputs": [
    {
     "name": "stdout",
     "output_type": "stream",
     "text": [
      "1585986\n"
     ]
    }
   ],
   "source": [
    "path = './data1/'\n",
    "raw = pd.read_csv(path+'train.csv')\n",
    "print(raw['customer_id'].nunique())"
   ]
  },
  {
   "cell_type": "markdown",
   "metadata": {},
   "source": [
    "**数据处理**"
   ]
  },
  {
   "cell_type": "code",
   "execution_count": 3,
   "metadata": {},
   "outputs": [
    {
     "name": "stdout",
     "output_type": "stream",
     "text": [
      "1063573\n"
     ]
    }
   ],
   "source": [
    "# 处理日期\n",
    "time_columns = ['order_pay_time']\n",
    "for col in time_columns:\n",
    "    raw[col] = pd.to_datetime(raw[col], format=\"%Y-%m-%d\")\n",
    "# 1月之前的数据都去掉\n",
    "raw = raw[raw['order_pay_time']>dt.datetime(2013, 1, 1)]    \n",
    "print(raw['customer_id'].nunique())\n",
    "# 处理类别特征\n",
    "raw['customer_gender'], _ = pd.factorize(raw['customer_gender'], na_sentinel=0)\n",
    "raw['customer_province'], _ = pd.factorize(raw['customer_province'], na_sentinel=-1)\n",
    "raw['customer_city'], _ = pd.factorize(raw['customer_city'], na_sentinel=-1)\n",
    "# raw['goods_id'], _ = pd.factorize(raw['goods_id'], na_sentinel=-1)"
   ]
  },
  {
   "cell_type": "code",
   "execution_count": 4,
   "metadata": {},
   "outputs": [
    {
     "name": "stdout",
     "output_type": "stream",
     "text": [
      "173385\n"
     ]
    }
   ],
   "source": [
    "print(raw['customer_id'][(raw['order_pay_time']>dt.datetime(2013, 8, 1))&(raw['order_pay_time']<dt.datetime(2013, 9, 1))].nunique())"
   ]
  },
  {
   "cell_type": "markdown",
   "metadata": {},
   "source": [
    "**准备数据**"
   ]
  },
  {
   "cell_type": "code",
   "execution_count": 16,
   "metadata": {},
   "outputs": [],
   "source": [
    "# 返回某段时间内的统计数据\n",
    "'''\n",
    "Parameters：\n",
    "----------\n",
    "timestamp: 从该时间往前统计\n",
    "''' \n",
    "def time_window_aggs(timestamp, is_train=True):\n",
    "    window_lengths = [14, 30, 60, 91]\n",
    "    # 准备这段时间内的原始数据\n",
    "    start_time = timestamp-dt.timedelta(max(window_lengths))\n",
    "    end_time = timestamp.replace(month=timestamp.month+1)\n",
    "    data = raw[(raw['order_pay_time']>start_time)&(raw['order_pay_time']<end_time)]\n",
    "    data = data.sort_values(['customer_id', 'order_pay_time'])\n",
    "    \n",
    "    data_features = data[data['order_pay_time']<timestamp]\n",
    "    # 初始化aggs\n",
    "    aggs = pd.DataFrame()\n",
    "    aggs['customer_id'] = data_features['customer_id'].unique()\n",
    "    \n",
    "    \"\"\"label\"\"\" \n",
    "    if is_train:\n",
    "        data_label = data[data['order_pay_time']>timestamp]\n",
    "        df = data_label.groupby('customer_id')\n",
    "        tmp = df.agg({'order_total_payment':'max'})\n",
    "        tmp['order_total_payment'][tmp['order_total_payment']>0] = 1\n",
    "        aggs = merge_rename_astype(aggs, tmp, 'order_total_payment', 'is_buyed', 0, np.uint8)\n",
    "        print(aggs['is_buyed'].sum()/len(aggs))\n",
    "      \n",
    "    \"\"\"特征\"\"\"\n",
    "    print(data_features['order_pay_time'].min(), data_features['order_pay_time'].max())\n",
    "    # 不同时间窗统计量\n",
    "    for window_length in window_lengths:\n",
    "        # 时间窗开始时间\n",
    "        start_time = timestamp-dt.timedelta(window_length)\n",
    "        # 获取时间窗口内数据并groupby “customer_id\"\n",
    "        df = data_features[data_features['order_pay_time']>start_time].groupby('customer_id')\n",
    "\n",
    "        \"\"\"订单部分\"\"\"\n",
    "        # 这里都选取order_detail的数据，order_detail对应子订单，一个order可以包含多个order_detail，\n",
    "        # 这里认为子订单更能反应订单特性\n",
    "\n",
    "        # 统计选取特征的sum, max\n",
    "        cols = [ 'order_detail_amount', 'order_detail_goods_num','order_detail_payment']\n",
    "        for col in cols:\n",
    "            tmp = df.agg({col:'sum'})\n",
    "            # merge, rename, fillna and change type for reduce memory\n",
    "            aggs = merge_rename_astype(aggs, tmp, col, f'{window_length}_Sum_'+col, 0, np.float16)\n",
    "            \n",
    "            tmp = df.agg({col:'max'})\n",
    "            # merge, rename, fillna and change type for reduce memory\n",
    "            aggs = merge_rename_astype(aggs, tmp, col, f'{window_length}_Max_'+col, 0, np.float16)\n",
    "        # 统计订单数量\n",
    "        tmp = df['order_detail_id'].count()\n",
    "        aggs = merge_rename_astype(aggs, tmp, 'order_detail_id', f'{window_length}_Count_order', 0, np.uint16)\n",
    "    \n",
    "    # 最大范围时间统计量\n",
    "    df = data_features.groupby('customer_id')\n",
    "    \"\"\"用户相关\"\"\"\n",
    "    # 用户是否评价\n",
    "    col = 'is_customer_rate'\n",
    "    tmp = df.agg({col:'mean'})\n",
    "    aggs = merge_rename_astype(aggs, tmp, col, 'Mean_'+col, 0, np.float16)\n",
    "    # 最后一次订单发生时用户的会员状态, member_status数据和is_member_actived完全一样，只取一个\n",
    "    col = 'is_member_actived'\n",
    "    tmp = df[col].last()\n",
    "    aggs = merge_rename_astype(aggs, tmp, col, 'Last_'+col, 0, np.uint8) \n",
    "\n",
    "    \"\"\"商品相关\"\"\"\n",
    "    # 购买商品种类  （数据中goods_id和goods_class_id完全相同）\n",
    "    tmp = df['goods_id'].nunique()\n",
    "    aggs = merge_rename_astype(aggs, tmp, 'goods_id', 'Count_goods', 0, np.uint16)\n",
    "    # 是否有折扣\n",
    "    col = 'goods_has_discount'\n",
    "    tmp = df.agg({col: 'sum'})\n",
    "    aggs = merge_rename_astype(aggs, tmp, col, 'Sum_'+col, 0, np.uint16)\n",
    "    # 商品种类作为类别特征\n",
    "    return aggs\n",
    "\n",
    "def cat_aggs(aggs):\n",
    "    df = raw.groupby('customer_id')\n",
    "    # 性别\n",
    "    tmp = df['customer_gender'].last()\n",
    "    aggs = merge_rename_astype(aggs, tmp, 'customer_gender', 'customer_gender', 0, \"category\")\n",
    "    # 省份\n",
    "    tmp = df['customer_province'].last()\n",
    "    aggs = merge_rename_astype(aggs, tmp, 'customer_province', 'customer_province', -1, \"category\")\n",
    "    # 城市\n",
    "    tmp = df['customer_city'].last()\n",
    "    aggs = merge_rename_astype(aggs, tmp, 'customer_city', 'customer_city', -1, \"category\")\n",
    "    return aggs\n",
    "\n",
    "def merge_rename_astype(aggs, df, column_name, new_column_name, fillna_value, dtype):\n",
    "    aggs = aggs.merge(df, how='left', on='customer_id')\n",
    "    aggs.rename(columns={column_name: new_column_name}, inplace=True)\n",
    "    aggs[new_column_name] = aggs[new_column_name].fillna(fillna_value).astype(dtype)\n",
    "    return aggs\n"
   ]
  },
  {
   "cell_type": "code",
   "execution_count": 17,
   "metadata": {},
   "outputs": [
    {
     "name": "stdout",
     "output_type": "stream",
     "text": [
      "0.088428344833876\n",
      "2013-04-07 00:00:13 2013-07-06 23:59:31\n",
      "0.11701124417411875\n",
      "2013-04-14 00:00:33 2013-07-13 23:59:52\n",
      "0.14918863115178743\n",
      "2013-04-21 00:00:17 2013-07-20 23:59:37\n",
      "0.15434859666426282\n",
      "2013-04-28 00:00:11 2013-07-27 23:59:41\n"
     ]
    }
   ],
   "source": [
    "# 训练数据集时间节点\n",
    "# train_times = [dt.datetime(2013, m, 1) for m in range(5, 9)]\n",
    "train_times = [dt.datetime(2013, 7, d) for d in range(7, 31, 7)]\n",
    "# 构建数据\n",
    "train_data = []\n",
    "for timestamp in train_times:\n",
    "    data_one_time = time_window_aggs(timestamp, is_train=True)\n",
    "    data_one_time = cat_aggs(data_one_time)  \n",
    "    train_data.append(data_one_time)\n",
    "# 形成完整训练集\n",
    "train_data = pd.concat(train_data)\n"
   ]
  },
  {
   "cell_type": "code",
   "execution_count": 18,
   "metadata": {},
   "outputs": [
    {
     "name": "stdout",
     "output_type": "stream",
     "text": [
      "2013-06-02 00:00:03 2013-08-31 23:59:59\n"
     ]
    }
   ],
   "source": [
    "# 测试数据集时间节点\n",
    "test_time = dt.datetime(2013, 9, 1)\n",
    "# 构建数据\n",
    "test_data = time_window_aggs(test_time, is_train=False)\n",
    "test_data = cat_aggs(test_data)"
   ]
  },
  {
   "cell_type": "code",
   "execution_count": 19,
   "metadata": {},
   "outputs": [],
   "source": [
    "X = train_data.drop(['customer_id', 'is_buyed'], axis=1)\n",
    "y = train_data['is_buyed']\n",
    "X_predict = test_data.drop(['customer_id'], axis=1)"
   ]
  },
  {
   "cell_type": "code",
   "execution_count": 20,
   "metadata": {},
   "outputs": [],
   "source": [
    "X_total = pd.concat([X, X_predict])"
   ]
  },
  {
   "cell_type": "code",
   "execution_count": 21,
   "metadata": {},
   "outputs": [],
   "source": [
    "X_total.drop(columns=['customer_city', 'customer_province'], inplace=True, axis=1)"
   ]
  },
  {
   "cell_type": "code",
   "execution_count": 22,
   "metadata": {},
   "outputs": [],
   "source": [
    "# X_total = pd.get_dummies(X_total, columns=['customer_gender', 'customer_province'])\n",
    "X_total = pd.get_dummies(X_total, columns=['customer_gender'])"
   ]
  },
  {
   "cell_type": "code",
   "execution_count": 23,
   "metadata": {},
   "outputs": [],
   "source": [
    "X = X_total[:len(X)]\n",
    "X_predict = X_total[len(X):]"
   ]
  },
  {
   "cell_type": "code",
   "execution_count": 24,
   "metadata": {},
   "outputs": [],
   "source": [
    "X.to_pickle('./data1/X_train.pkl')\n",
    "y.to_pickle('./data1/y_train.pkl')\n",
    "X_predict.to_pickle('./data1/X_test.pkl')\n",
    "test_data['customer_id'].to_pickle('./data1/y_test.pkl')"
   ]
  },
  {
   "cell_type": "code",
   "execution_count": null,
   "metadata": {},
   "outputs": [],
   "source": []
  }
 ],
 "metadata": {
  "kernelspec": {
   "display_name": "Python 3",
   "language": "python",
   "name": "python3"
  },
  "language_info": {
   "codemirror_mode": {
    "name": "ipython",
    "version": 3
   },
   "file_extension": ".py",
   "mimetype": "text/x-python",
   "name": "python",
   "nbconvert_exporter": "python",
   "pygments_lexer": "ipython3",
   "version": "3.8.3"
  }
 },
 "nbformat": 4,
 "nbformat_minor": 4
}
