{
 "cells": [
  {
   "cell_type": "code",
   "execution_count": 1,
   "metadata": {},
   "outputs": [],
   "source": [
    "import pandas as pd\n",
    "import numpy as np\n",
    "import xgboost as xgb\n",
    "import matplotlib.pylab as plt\n",
    "\n",
    "from sklearn.model_selection import GridSearchCV\n",
    "from sklearn.model_selection import train_test_split"
   ]
  },
  {
   "cell_type": "code",
   "execution_count": 2,
   "metadata": {},
   "outputs": [],
   "source": [
    "# 加载数据\n",
    "X = pd.read_pickle('./data1/X_train.pkl')\n",
    "y = pd.read_pickle('./data1/y_train.pkl')"
   ]
  },
  {
   "cell_type": "code",
   "execution_count": 4,
   "metadata": {},
   "outputs": [
    {
     "name": "stdout",
     "output_type": "stream",
     "text": [
      "<class 'pandas.core.frame.DataFrame'>\n",
      "Int64Index: 4254292 entries, 0 to 1063572\n",
      "Data columns (total 35 columns):\n",
      " #   Column                         Dtype  \n",
      "---  ------                         -----  \n",
      " 0   14_Sum_order_detail_amount     float16\n",
      " 1   14_Max_order_detail_amount     float16\n",
      " 2   14_Sum_order_detail_goods_num  float16\n",
      " 3   14_Max_order_detail_goods_num  float16\n",
      " 4   14_Sum_order_detail_payment    float16\n",
      " 5   14_Max_order_detail_payment    float16\n",
      " 6   14_Count_order                 uint16 \n",
      " 7   30_Sum_order_detail_amount     float16\n",
      " 8   30_Max_order_detail_amount     float16\n",
      " 9   30_Sum_order_detail_goods_num  float16\n",
      " 10  30_Max_order_detail_goods_num  float16\n",
      " 11  30_Sum_order_detail_payment    float16\n",
      " 12  30_Max_order_detail_payment    float16\n",
      " 13  30_Count_order                 uint16 \n",
      " 14  60_Sum_order_detail_amount     float16\n",
      " 15  60_Max_order_detail_amount     float16\n",
      " 16  60_Sum_order_detail_goods_num  float16\n",
      " 17  60_Max_order_detail_goods_num  float16\n",
      " 18  60_Sum_order_detail_payment    float16\n",
      " 19  60_Max_order_detail_payment    float16\n",
      " 20  60_Count_order                 uint16 \n",
      " 21  91_Sum_order_detail_amount     float16\n",
      " 22  91_Max_order_detail_amount     float16\n",
      " 23  91_Sum_order_detail_goods_num  float16\n",
      " 24  91_Max_order_detail_goods_num  float16\n",
      " 25  91_Sum_order_detail_payment    float16\n",
      " 26  91_Max_order_detail_payment    float16\n",
      " 27  91_Count_order                 uint16 \n",
      " 28  Mean_is_customer_rate          float16\n",
      " 29  Last_is_member_actived         uint8  \n",
      " 30  Count_goods                    uint16 \n",
      " 31  Sum_goods_has_discount         uint16 \n",
      " 32  customer_gender_0              uint8  \n",
      " 33  customer_gender_1              uint8  \n",
      " 34  customer_gender_2              uint8  \n",
      "dtypes: float16(25), uint16(6), uint8(4)\n",
      "memory usage: 300.2 MB\n"
     ]
    }
   ],
   "source": [
    "X.info()"
   ]
  },
  {
   "cell_type": "code",
   "execution_count": 5,
   "metadata": {},
   "outputs": [],
   "source": [
    "X_train, X_test, y_train, y_test = train_test_split(X, y, test_size=0.2, random_state=20)"
   ]
  },
  {
   "cell_type": "code",
   "execution_count": 14,
   "metadata": {},
   "outputs": [],
   "source": [
    "model = xgb.XGBClassifier(max_depth=6,learning_rate= 0.1, verbosity=1, n_estimators=100,\n",
    "                          objective='binary:logistic', eval_metric='auc', scale_pos_weight=1)"
   ]
  },
  {
   "cell_type": "code",
   "execution_count": 15,
   "metadata": {
    "scrolled": true
   },
   "outputs": [
    {
     "name": "stdout",
     "output_type": "stream",
     "text": [
      "[0]\tvalidation_0-auc:0.59925\n",
      "Will train until validation_0-auc hasn't improved in 10 rounds.\n",
      "[1]\tvalidation_0-auc:0.59932\n",
      "[2]\tvalidation_0-auc:0.59933\n",
      "[3]\tvalidation_0-auc:0.59949\n",
      "[4]\tvalidation_0-auc:0.59952\n",
      "[5]\tvalidation_0-auc:0.59949\n",
      "[6]\tvalidation_0-auc:0.59959\n",
      "[7]\tvalidation_0-auc:0.59960\n",
      "[8]\tvalidation_0-auc:0.59964\n",
      "[9]\tvalidation_0-auc:0.59965\n",
      "[10]\tvalidation_0-auc:0.59965\n",
      "[11]\tvalidation_0-auc:0.59967\n",
      "[12]\tvalidation_0-auc:0.59972\n",
      "[13]\tvalidation_0-auc:0.59969\n",
      "[14]\tvalidation_0-auc:0.59973\n",
      "[15]\tvalidation_0-auc:0.59972\n",
      "[16]\tvalidation_0-auc:0.59973\n",
      "[17]\tvalidation_0-auc:0.59977\n",
      "[18]\tvalidation_0-auc:0.59975\n",
      "[19]\tvalidation_0-auc:0.59985\n",
      "[20]\tvalidation_0-auc:0.59983\n",
      "[21]\tvalidation_0-auc:0.59987\n",
      "[22]\tvalidation_0-auc:0.59993\n",
      "[23]\tvalidation_0-auc:0.59989\n",
      "[24]\tvalidation_0-auc:0.60002\n",
      "[25]\tvalidation_0-auc:0.60000\n",
      "[26]\tvalidation_0-auc:0.60008\n",
      "[27]\tvalidation_0-auc:0.60007\n",
      "[28]\tvalidation_0-auc:0.60010\n",
      "[29]\tvalidation_0-auc:0.60020\n",
      "[30]\tvalidation_0-auc:0.60018\n",
      "[31]\tvalidation_0-auc:0.60028\n",
      "[32]\tvalidation_0-auc:0.60027\n",
      "[33]\tvalidation_0-auc:0.60033\n",
      "[34]\tvalidation_0-auc:0.60039\n",
      "[35]\tvalidation_0-auc:0.60041\n",
      "[36]\tvalidation_0-auc:0.60041\n",
      "[37]\tvalidation_0-auc:0.60041\n",
      "[38]\tvalidation_0-auc:0.60038\n",
      "[39]\tvalidation_0-auc:0.60048\n",
      "[40]\tvalidation_0-auc:0.60047\n",
      "[41]\tvalidation_0-auc:0.60048\n",
      "[42]\tvalidation_0-auc:0.60049\n",
      "[43]\tvalidation_0-auc:0.60051\n",
      "[44]\tvalidation_0-auc:0.60052\n",
      "[45]\tvalidation_0-auc:0.60061\n",
      "[46]\tvalidation_0-auc:0.60064\n",
      "[47]\tvalidation_0-auc:0.60065\n",
      "[48]\tvalidation_0-auc:0.60067\n",
      "[49]\tvalidation_0-auc:0.60069\n",
      "[50]\tvalidation_0-auc:0.60069\n",
      "[51]\tvalidation_0-auc:0.60070\n",
      "[52]\tvalidation_0-auc:0.60070\n",
      "[53]\tvalidation_0-auc:0.60070\n",
      "[54]\tvalidation_0-auc:0.60071\n",
      "[55]\tvalidation_0-auc:0.60073\n",
      "[56]\tvalidation_0-auc:0.60072\n",
      "[57]\tvalidation_0-auc:0.60076\n",
      "[58]\tvalidation_0-auc:0.60078\n",
      "[59]\tvalidation_0-auc:0.60083\n",
      "[60]\tvalidation_0-auc:0.60083\n",
      "[61]\tvalidation_0-auc:0.60089\n",
      "[62]\tvalidation_0-auc:0.60089\n",
      "[63]\tvalidation_0-auc:0.60087\n",
      "[64]\tvalidation_0-auc:0.60090\n",
      "[65]\tvalidation_0-auc:0.60093\n",
      "[66]\tvalidation_0-auc:0.60094\n",
      "[67]\tvalidation_0-auc:0.60094\n",
      "[68]\tvalidation_0-auc:0.60095\n",
      "[69]\tvalidation_0-auc:0.60097\n",
      "[70]\tvalidation_0-auc:0.60096\n",
      "[71]\tvalidation_0-auc:0.60096\n",
      "[72]\tvalidation_0-auc:0.60106\n",
      "[73]\tvalidation_0-auc:0.60107\n",
      "[74]\tvalidation_0-auc:0.60105\n",
      "[75]\tvalidation_0-auc:0.60107\n",
      "[76]\tvalidation_0-auc:0.60107\n",
      "[77]\tvalidation_0-auc:0.60109\n",
      "[78]\tvalidation_0-auc:0.60111\n",
      "[79]\tvalidation_0-auc:0.60111\n",
      "[80]\tvalidation_0-auc:0.60111\n",
      "[81]\tvalidation_0-auc:0.60110\n",
      "[82]\tvalidation_0-auc:0.60110\n",
      "[83]\tvalidation_0-auc:0.60110\n",
      "[84]\tvalidation_0-auc:0.60113\n",
      "[85]\tvalidation_0-auc:0.60122\n",
      "[86]\tvalidation_0-auc:0.60122\n",
      "[87]\tvalidation_0-auc:0.60122\n",
      "[88]\tvalidation_0-auc:0.60124\n",
      "[89]\tvalidation_0-auc:0.60127\n",
      "[90]\tvalidation_0-auc:0.60130\n",
      "[91]\tvalidation_0-auc:0.60130\n",
      "[92]\tvalidation_0-auc:0.60131\n",
      "[93]\tvalidation_0-auc:0.60132\n",
      "[94]\tvalidation_0-auc:0.60131\n",
      "[95]\tvalidation_0-auc:0.60135\n",
      "[96]\tvalidation_0-auc:0.60135\n",
      "[97]\tvalidation_0-auc:0.60133\n",
      "[98]\tvalidation_0-auc:0.60133\n",
      "[99]\tvalidation_0-auc:0.60133\n"
     ]
    },
    {
     "data": {
      "text/plain": [
       "XGBClassifier(base_score=0.5, booster='gbtree', colsample_bylevel=1,\n",
       "              colsample_bynode=1, colsample_bytree=1, eval_metric='auc',\n",
       "              gamma=0, gpu_id=-1, importance_type='gain',\n",
       "              interaction_constraints='', learning_rate=0.1, max_delta_step=0,\n",
       "              max_depth=6, min_child_weight=1, missing=nan,\n",
       "              monotone_constraints='()', n_estimators=100, n_jobs=0,\n",
       "              num_parallel_tree=1, random_state=0, reg_alpha=0, reg_lambda=1,\n",
       "              scale_pos_weight=1, subsample=1, tree_method='exact',\n",
       "              validate_parameters=1, verbosity=1)"
      ]
     },
     "execution_count": 15,
     "metadata": {},
     "output_type": "execute_result"
    }
   ],
   "source": [
    "model.fit(X_train, y_train, early_stopping_rounds=10, eval_metric=\"auc\",\n",
    "        eval_set=[(X_test, y_test)])"
   ]
  },
  {
   "cell_type": "code",
   "execution_count": 8,
   "metadata": {},
   "outputs": [],
   "source": [
    "X_predict = pd.read_pickle('./data1/X_test.pkl')\n",
    "y_predict = pd.read_pickle('./data1/y_test.pkl')\n",
    "y_predict = pd.DataFrame(y_predict)"
   ]
  },
  {
   "cell_type": "code",
   "execution_count": 16,
   "metadata": {},
   "outputs": [],
   "source": [
    "y_predict['result'] = model.predict(X_predict)"
   ]
  },
  {
   "cell_type": "code",
   "execution_count": 19,
   "metadata": {},
   "outputs": [],
   "source": [
    "result = pd.read_csv('./data/submission.csv')\n",
    "tmp = pd.merge(result[['customer_id']], y_predict[['customer_id','result']], on='customer_id', how='left')\n",
    "tmp['result'].fillna(0, inplace=True)"
   ]
  },
  {
   "cell_type": "code",
   "execution_count": 22,
   "metadata": {},
   "outputs": [],
   "source": [
    "result['result'] = tmp['result']"
   ]
  },
  {
   "cell_type": "code",
   "execution_count": 23,
   "metadata": {},
   "outputs": [],
   "source": [
    "result.to_csv('submission_xgb.csv', index = False)"
   ]
  },
  {
   "cell_type": "code",
   "execution_count": null,
   "metadata": {},
   "outputs": [],
   "source": []
  }
 ],
 "metadata": {
  "kernelspec": {
   "display_name": "Python 3",
   "language": "python",
   "name": "python3"
  },
  "language_info": {
   "codemirror_mode": {
    "name": "ipython",
    "version": 3
   },
   "file_extension": ".py",
   "mimetype": "text/x-python",
   "name": "python",
   "nbconvert_exporter": "python",
   "pygments_lexer": "ipython3",
   "version": "3.8.3"
  }
 },
 "nbformat": 4,
 "nbformat_minor": 4
}
