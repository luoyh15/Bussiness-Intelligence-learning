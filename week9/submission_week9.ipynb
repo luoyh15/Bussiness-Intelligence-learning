{
 "cells": [
  {
   "cell_type": "markdown",
   "metadata": {},
   "source": [
    "**Thinking1: 今天讲解了时间序列预测的两种方式，实际上在数据库内建时间属性后，可以产生时序数据库，请思考什么是时序数据库？为什么时间序列数据成为增长最快的数据类型之一**"
   ]
  },
  {
   "cell_type": "markdown",
   "metadata": {},
   "source": [
    "1. 时序数据库: 存放时序数据的数据库，并且需要支持时序数据的快速写入、持久化、多纬度的聚合查询等基本功能。\n",
    "2. 由于最近20年数据量指数级增长，时间序列数据的应用场景也显著增加。往前看可以发掘历史趋势、规律、异常等，往后看可以对未来做出预测。"
   ]
  },
  {
   "cell_type": "markdown",
   "metadata": {},
   "source": [
    "**Action1：PM2.5数据集\n",
    "https://archive.ics.uci.edu/ml/datasets/Beijing%20PM2.5%20Data\n",
    "预测未来北京PM2.5的值**"
   ]
  },
  {
   "cell_type": "markdown",
   "metadata": {},
   "source": [
    "**ARMA模型**"
   ]
  },
  {
   "cell_type": "code",
   "execution_count": 68,
   "metadata": {},
   "outputs": [],
   "source": [
    "from statsmodels.tsa.arima.model import ARIMA\n",
    "from itertools import product"
   ]
  },
  {
   "cell_type": "code",
   "execution_count": 85,
   "metadata": {},
   "outputs": [
    {
     "name": "stderr",
     "output_type": "stream",
     "text": [
      "C:\\Users\\luoyh\\anaconda3\\envs\\bi_learning\\lib\\site-packages\\statsmodels\\tsa\\base\\tsa_model.py:527: ValueWarning: No frequency information was provided, so inferred frequency H will be used.\n",
      "  % freq, ValueWarning)\n",
      "C:\\Users\\luoyh\\anaconda3\\envs\\bi_learning\\lib\\site-packages\\statsmodels\\tsa\\statespace\\sarimax.py:978: UserWarning: Non-invertible starting MA parameters found. Using zeros as starting parameters.\n",
      "  warn('Non-invertible starting MA parameters found.'\n",
      "C:\\Users\\luoyh\\anaconda3\\envs\\bi_learning\\lib\\site-packages\\statsmodels\\tsa\\statespace\\sarimax.py:966: UserWarning: Non-stationary starting autoregressive parameters found. Using zeros as starting parameters.\n",
      "  warn('Non-stationary starting autoregressive parameters'\n",
      "C:\\Users\\luoyh\\anaconda3\\envs\\bi_learning\\lib\\site-packages\\statsmodels\\base\\model.py:568: ConvergenceWarning: Maximum Likelihood optimization failed to converge. Check mle_retvals\n",
      "  ConvergenceWarning)\n"
     ]
    },
    {
     "name": "stdout",
     "output_type": "stream",
     "text": [
      "最优模型:                                 SARIMAX Results                                \n",
      "==============================================================================\n",
      "Dep. Variable:              pollution   No. Observations:                43824\n",
      "Model:                 ARIMA(4, 0, 4)   Log Likelihood             -191264.612\n",
      "Date:                Sun, 03 Jan 2021   AIC                         382549.224\n",
      "Time:                        22:42:50   BIC                         382636.104\n",
      "Sample:                    01-01-2010   HQIC                        382576.607\n",
      "                         - 12-31-2014                                         \n",
      "Covariance Type:                  opg                                         \n",
      "==============================================================================\n",
      "                 coef    std err          z      P>|z|      [0.025      0.975]\n",
      "------------------------------------------------------------------------------\n",
      "const         98.6063      4.773     20.658      0.000      89.251     107.962\n",
      "ar.L1          1.8032      0.077     23.393      0.000       1.652       1.954\n",
      "ar.L2          0.0633      0.196      0.322      0.747      -0.322       0.448\n",
      "ar.L3         -1.6323      0.174     -9.378      0.000      -1.973      -1.291\n",
      "ar.L4          0.7634      0.055     13.920      0.000       0.656       0.871\n",
      "ma.L1         -0.6397      0.077     -8.286      0.000      -0.791      -0.488\n",
      "ma.L2         -1.0415      0.109     -9.515      0.000      -1.256      -0.827\n",
      "ma.L3          0.6044      0.035     17.161      0.000       0.535       0.673\n",
      "ma.L4          0.1518      0.011     14.342      0.000       0.131       0.173\n",
      "sigma2       557.8008      0.652    855.613      0.000     556.523     559.079\n",
      "===================================================================================\n",
      "Ljung-Box (L1) (Q):                   3.27   Jarque-Bera (JB):          16000580.50\n",
      "Prob(Q):                              0.07   Prob(JB):                         0.00\n",
      "Heteroskedasticity (H):               0.77   Skew:                             0.19\n",
      "Prob(H) (two-sided):                  0.00   Kurtosis:                        96.61\n",
      "===================================================================================\n",
      "\n",
      "Warnings:\n",
      "[1] Covariance matrix calculated using the outer product of gradients (complex-step).\n"
     ]
    }
   ],
   "source": [
    "# 设置参数范围\n",
    "ps = range(0, 5)\n",
    "qs = range(0, 5)\n",
    "parameters = product(ps, qs)\n",
    "parameters_list = list(parameters)\n",
    "# 寻找最优ARMA模型参数，即best_aic最小\n",
    "results = []\n",
    "best_aic = float(\"inf\") # 正无穷\n",
    "for param in parameters_list:\n",
    "    try:\n",
    "        model = ARIMA(data['pollution'],order=(param[0], 0, param[1])).fit()\n",
    "    except ValueError:\n",
    "        print('参数错误:', param)\n",
    "        continue\n",
    "    aic = model.aic\n",
    "    if aic < best_aic:\n",
    "        best_model = model\n",
    "        best_aic = aic\n",
    "        best_param = param\n",
    "    results.append([param, model.aic])\n",
    "print('最优模型: ', best_model.summary())"
   ]
  },
  {
   "cell_type": "markdown",
   "metadata": {},
   "source": [
    "**用LSTM模型进行预测**"
   ]
  },
  {
   "cell_type": "code",
   "execution_count": 2,
   "metadata": {},
   "outputs": [],
   "source": [
    "import pandas as pd\n",
    "import numpy as np\n",
    "from datetime import datetime"
   ]
  },
  {
   "cell_type": "code",
   "execution_count": 3,
   "metadata": {},
   "outputs": [],
   "source": [
    "# 解析时间数据\n",
    "def parse(x):\n",
    "\treturn datetime.strptime(x, '%Y %m %d %H')\n",
    "# 读取数据\n",
    "raw = pd.read_csv('./data/PRSA_data_2010.1.1-2014.12.31.csv', \n",
    "                  parse_dates = [['year', 'month', 'day', 'hour']], index_col=0, date_parser=parse)\n",
    "# 去掉无用列\n",
    "raw.drop('No', axis=1, inplace=True)\n",
    "# 列名替换\n",
    "raw.columns = ['pollution', 'dew', 'temp', 'press', 'wnd_dir', 'wnd_spd', 'snow', 'rain']\n",
    "raw.index.name = 'date'"
   ]
  },
  {
   "cell_type": "code",
   "execution_count": 4,
   "metadata": {},
   "outputs": [],
   "source": [
    "# 数据处理\n",
    "from sklearn.preprocessing import LabelEncoder\n",
    "le = LabelEncoder()\n",
    "raw['wnd_dir'] = le.fit_transform(raw['wnd_dir'])\n",
    "from sklearn.preprocessing import MinMaxScaler\n",
    "scaler = MinMaxScaler()\n",
    "columns_to_sacle = ['dew', 'temp', 'press', 'wnd_spd', 'snow', 'rain']\n",
    "raw[columns_to_sacle] = scaler.fit_transform(raw[columns_to_sacle])"
   ]
  },
  {
   "cell_type": "code",
   "execution_count": 24,
   "metadata": {},
   "outputs": [],
   "source": [
    "# 将时间序列数据转换为适用于监督学习的数据\n",
    "def series_to_supervised(data, out_columns, n_in=1, n_out=1, dropnan=True):\n",
    "    # 一个时间的特征\n",
    "    df = pd.DataFrame(data)\n",
    "    old_cols = df.columns\n",
    "    \n",
    "    # 存储新数据的列和列名\n",
    "    cols, names = list(), list()\n",
    "    for i in range(n_in, 0, -1):\n",
    "        cols.append(df.shift(i))\n",
    "        names += [f'{col}_(t-{i})' for col in old_cols]\n",
    "    # 预测序列 (t, t+1, ... t+n)\n",
    "    for i in range(0, n_out):\n",
    "        cols.append(df.shift(-i)[out_columns])\n",
    "#         names += [f'{col}_(t)' for col in out_columns]\n",
    "        if i == 0:\n",
    "            names += [f'{col}_(t)' for col in out_columns]\n",
    "        else:\n",
    "            names += [f'{col}_(t+{i})' for col in out_columns]\n",
    "    agg = pd.concat(cols, axis=1)\n",
    "    agg.columns = names\n",
    "    # 去掉NaN行\n",
    "    if dropnan:\n",
    "        agg.dropna(inplace=True)\n",
    "    return agg"
   ]
  },
  {
   "cell_type": "code",
   "execution_count": 27,
   "metadata": {},
   "outputs": [],
   "source": [
    "# 转化为可以用于LSTM监督学习的数据\n",
    "def get_train_set(data_set, out_columns, timesteps_in, timesteps_out=1):\n",
    "#     train_data_set = np.array(data_set)\n",
    "    reframed_train_data_set = np.array(series_to_supervised(data_set, out_columns, timesteps_in, timesteps_out).values)\n",
    "#     print(reframed_train_data_set)\n",
    "#     print(reframed_train_data_set.shape)\n",
    "    train_x, train_y = reframed_train_data_set[:, :-timesteps_out], reframed_train_data_set[:, -timesteps_out:]\n",
    "    # 将数据集重构为符合LSTM要求的数据格式,即 [样本数，时间步，特征]\n",
    "    train_x = train_x.reshape((train_x.shape[0], timesteps_in, -1))\n",
    "    return train_x, train_y\n"
   ]
  },
  {
   "cell_type": "code",
   "execution_count": 36,
   "metadata": {},
   "outputs": [],
   "source": [
    "# 用之前的3个时间步进行预测\n",
    "timesteps_in = 3\n",
    "timesteps_out = 1\n",
    "X, y = get_train_set(raw, ['pollution'], timesteps_in, timesteps_out)"
   ]
  },
  {
   "cell_type": "code",
   "execution_count": 38,
   "metadata": {},
   "outputs": [],
   "source": [
    "# 生成训练集和测试集\n",
    "from sklearn.model_selection import TimeSeriesSplit\n",
    "# 此处的TimeSeriesSplit默认切成5份，五份(测试:训练)数据分别是：[1]:[2];[1,2]:[3];[1,2,3]:[4];[1,2,3,4]:[5]\n",
    "tscv = TimeSeriesSplit()\n",
    "#这里类似K-fold, 不过只取了最后一份进行训练[1,2,3,4]:[5]\n",
    "for train_index, test_index in tscv.split(X):\n",
    "#     print(\"TRAIN:\", train_index, \"TEST:\", test_index)\n",
    "    X_train, X_test = X[train_index], X[test_index]\n",
    "    y_train, y_test = y[train_index], y[test_index]"
   ]
  },
  {
   "cell_type": "markdown",
   "metadata": {},
   "source": [
    "**用LSTM模型进行预测**"
   ]
  },
  {
   "cell_type": "code",
   "execution_count": 41,
   "metadata": {
    "scrolled": true
   },
   "outputs": [
    {
     "name": "stdout",
     "output_type": "stream",
     "text": [
      "Train on 34298 samples\n",
      "Epoch 1/100\n",
      "34298/34298 - 3s - loss: 15660.1204\n",
      "Epoch 2/100\n",
      "34298/34298 - 2s - loss: 12969.0950\n",
      "Epoch 3/100\n",
      "34298/34298 - 2s - loss: 11146.6818\n",
      "Epoch 4/100\n",
      "34298/34298 - 2s - loss: 9732.1056\n",
      "Epoch 5/100\n",
      "34298/34298 - 2s - loss: 8608.1962\n",
      "Epoch 6/100\n",
      "34298/34298 - 2s - loss: 7658.3169\n",
      "Epoch 7/100\n",
      "34298/34298 - 2s - loss: 6894.7305\n",
      "Epoch 8/100\n",
      "34298/34298 - 4s - loss: 6239.0574\n",
      "Epoch 9/100\n",
      "34298/34298 - 6s - loss: 5690.6188\n",
      "Epoch 10/100\n",
      "34298/34298 - 7s - loss: 5199.7812\n",
      "Epoch 11/100\n",
      "34298/34298 - 10s - loss: 4800.5644\n",
      "Epoch 12/100\n",
      "34298/34298 - 6s - loss: 4444.5105\n",
      "Epoch 13/100\n",
      "34298/34298 - 5s - loss: 4114.5816\n",
      "Epoch 14/100\n",
      "34298/34298 - 5s - loss: 3840.3828\n",
      "Epoch 15/100\n",
      "34298/34298 - 4s - loss: 3591.0275\n",
      "Epoch 16/100\n",
      "34298/34298 - 4s - loss: 3365.7046\n",
      "Epoch 17/100\n",
      "34298/34298 - 4s - loss: 3150.8213\n",
      "Epoch 18/100\n",
      "34298/34298 - 4s - loss: 2975.4036\n",
      "Epoch 19/100\n",
      "34298/34298 - 3s - loss: 2827.9872\n",
      "Epoch 20/100\n",
      "34298/34298 - 6s - loss: 2666.4105\n",
      "Epoch 21/100\n",
      "34298/34298 - 6s - loss: 2525.3271\n",
      "Epoch 22/100\n",
      "34298/34298 - 9s - loss: 2412.4665\n",
      "Epoch 23/100\n",
      "34298/34298 - 8s - loss: 2307.7017\n",
      "Epoch 24/100\n",
      "34298/34298 - 5s - loss: 2190.2861\n",
      "Epoch 25/100\n",
      "34298/34298 - 5s - loss: 2119.1853\n",
      "Epoch 26/100\n",
      "34298/34298 - 6s - loss: 2017.1081\n",
      "Epoch 27/100\n",
      "34298/34298 - 6s - loss: 1923.1062\n",
      "Epoch 28/100\n",
      "34298/34298 - 6s - loss: 1856.1730\n",
      "Epoch 29/100\n",
      "34298/34298 - 5s - loss: 1789.4436\n",
      "Epoch 30/100\n",
      "34298/34298 - 6s - loss: 1724.0142\n",
      "Epoch 31/100\n",
      "34298/34298 - 7s - loss: 1653.3055\n",
      "Epoch 32/100\n",
      "34298/34298 - 7s - loss: 1595.8623\n",
      "Epoch 33/100\n",
      "34298/34298 - 7s - loss: 1570.6389\n",
      "Epoch 34/100\n",
      "34298/34298 - 7s - loss: 1523.4996\n",
      "Epoch 35/100\n",
      "34298/34298 - 6s - loss: 1488.0290\n",
      "Epoch 36/100\n",
      "34298/34298 - 6s - loss: 1414.9373\n",
      "Epoch 37/100\n",
      "34298/34298 - 6s - loss: 1377.0114\n",
      "Epoch 38/100\n",
      "34298/34298 - 6s - loss: 1352.0213\n",
      "Epoch 39/100\n",
      "34298/34298 - 7s - loss: 1310.0200\n",
      "Epoch 40/100\n",
      "34298/34298 - 6s - loss: 1288.6145\n",
      "Epoch 41/100\n",
      "34298/34298 - 6s - loss: 1260.5922\n",
      "Epoch 42/100\n",
      "34298/34298 - 6s - loss: 1224.3896\n",
      "Epoch 43/100\n",
      "34298/34298 - 6s - loss: 1207.5357\n",
      "Epoch 44/100\n",
      "34298/34298 - 6s - loss: 1188.2663\n",
      "Epoch 45/100\n",
      "34298/34298 - 8s - loss: 1158.3104\n",
      "Epoch 46/100\n",
      "34298/34298 - 7s - loss: 1129.3339\n",
      "Epoch 47/100\n",
      "34298/34298 - 6s - loss: 1098.2763\n",
      "Epoch 48/100\n",
      "34298/34298 - 6s - loss: 1100.7839\n",
      "Epoch 49/100\n",
      "34298/34298 - 6s - loss: 1072.6965\n",
      "Epoch 50/100\n",
      "34298/34298 - 7s - loss: 1044.2476\n",
      "Epoch 51/100\n",
      "34298/34298 - 8s - loss: 1026.4798\n",
      "Epoch 52/100\n",
      "34298/34298 - 8s - loss: 1015.8205\n",
      "Epoch 53/100\n",
      "34298/34298 - 7s - loss: 997.4216\n",
      "Epoch 54/100\n",
      "34298/34298 - 7s - loss: 984.8741\n",
      "Epoch 55/100\n",
      "34298/34298 - 7s - loss: 985.2168\n",
      "Epoch 56/100\n",
      "34298/34298 - 7s - loss: 956.0624\n",
      "Epoch 57/100\n",
      "34298/34298 - 7s - loss: 943.6417\n",
      "Epoch 58/100\n",
      "34298/34298 - 8s - loss: 933.7325\n",
      "Epoch 59/100\n",
      "34298/34298 - 7s - loss: 922.6309\n",
      "Epoch 60/100\n",
      "34298/34298 - 7s - loss: 907.6400\n",
      "Epoch 61/100\n",
      "34298/34298 - 6s - loss: 909.4480\n",
      "Epoch 62/100\n",
      "34298/34298 - 6s - loss: 888.8297\n",
      "Epoch 63/100\n",
      "34298/34298 - 7s - loss: 887.2354\n",
      "Epoch 64/100\n",
      "34298/34298 - 8s - loss: 888.7257\n",
      "Epoch 65/100\n",
      "34298/34298 - 8s - loss: 872.9168\n",
      "Epoch 66/100\n",
      "34298/34298 - 8s - loss: 869.6435\n",
      "Epoch 67/100\n",
      "34298/34298 - 7s - loss: 855.2805\n",
      "Epoch 68/100\n",
      "34298/34298 - 7s - loss: 861.3949\n",
      "Epoch 69/100\n",
      "34298/34298 - 7s - loss: 844.5283\n",
      "Epoch 70/100\n",
      "34298/34298 - 7s - loss: 833.1208\n",
      "Epoch 71/100\n",
      "34298/34298 - 8s - loss: 830.8302\n",
      "Epoch 72/100\n",
      "34298/34298 - 8s - loss: 810.6882\n",
      "Epoch 73/100\n",
      "34298/34298 - 6s - loss: 832.7923\n",
      "Epoch 74/100\n",
      "34298/34298 - 6s - loss: 828.7389\n",
      "Epoch 75/100\n",
      "34298/34298 - 8s - loss: 818.9229\n",
      "Epoch 76/100\n",
      "34298/34298 - 9s - loss: 802.5649\n",
      "Epoch 77/100\n",
      "34298/34298 - 6s - loss: 803.7597\n",
      "Epoch 78/100\n",
      "34298/34298 - 6s - loss: 803.8462\n",
      "Epoch 79/100\n",
      "34298/34298 - 7s - loss: 808.6823\n",
      "Epoch 80/100\n",
      "34298/34298 - 9s - loss: 796.2328\n",
      "Epoch 81/100\n",
      "34298/34298 - 7s - loss: 803.7059\n",
      "Epoch 82/100\n",
      "34298/34298 - 7s - loss: 798.7620\n",
      "Epoch 83/100\n",
      "34298/34298 - 9s - loss: 798.6071\n",
      "Epoch 84/100\n",
      "34298/34298 - 7s - loss: 783.0486\n",
      "Epoch 85/100\n",
      "34298/34298 - 6s - loss: 793.1117\n",
      "Epoch 86/100\n",
      "34298/34298 - 6s - loss: 788.0730\n",
      "Epoch 87/100\n",
      "34298/34298 - 7s - loss: 784.7919\n",
      "Epoch 88/100\n",
      "34298/34298 - 7s - loss: 774.0702\n",
      "Epoch 89/100\n",
      "34298/34298 - 7s - loss: 764.0788\n",
      "Epoch 90/100\n",
      "34298/34298 - 8s - loss: 778.2769\n",
      "Epoch 91/100\n",
      "34298/34298 - 8s - loss: 771.4553\n",
      "Epoch 92/100\n",
      "34298/34298 - 8s - loss: 767.2119\n",
      "Epoch 93/100\n",
      "34298/34298 - 7s - loss: 760.5158\n",
      "Epoch 94/100\n",
      "34298/34298 - 8s - loss: 779.3022\n",
      "Epoch 95/100\n",
      "34298/34298 - 8s - loss: 750.8148\n",
      "Epoch 96/100\n",
      "34298/34298 - 6s - loss: 768.4446\n",
      "Epoch 97/100\n",
      "34298/34298 - 6s - loss: 755.5576\n",
      "Epoch 98/100\n",
      "34298/34298 - 8s - loss: 759.8597\n",
      "Epoch 99/100\n",
      "34298/34298 - 10s - loss: 770.6295\n",
      "Epoch 100/100\n",
      "34298/34298 - 7s - loss: 757.8363\n"
     ]
    }
   ],
   "source": [
    "import tensorflow as tf\n",
    "from tensorflow.keras import Sequential\n",
    "from tensorflow.keras.layers import LSTM, Dense, Dropout\n",
    "\n",
    "# hyperparameters\n",
    "input_epochs = 100\n",
    "input_batch_size = 256\n",
    "n_steps_in = timesteps_in        #输入时间步\n",
    "n_features = X_train.shape[2]    #输入特征维度\n",
    "n_steps_out = timesteps_out      #输出时间步\n",
    "# 模型搭建\n",
    "model = Sequential()  \n",
    "# 第一层, 隐藏层神经元节点个数为128, 返回整个序列\n",
    "model.add(LSTM(128, return_sequences=True, activation='tanh', input_shape=(n_steps_in, n_features)))\n",
    "# 第二层，隐藏层神经元节点个数为128, 只返回序列最后一个输出\n",
    "model.add(LSTM(128, return_sequences=False))\n",
    "model.add(Dropout(0.5))\n",
    "# 第三层 因为是回归问题所以使用linear\n",
    "model.add(Dense(n_steps_out, activation='linear'))\n",
    "model.compile(loss='mean_squared_error', optimizer='adam')\n",
    "# LSTM训练 input_epochs次数\n",
    "res = model.fit(X_train, y_train, epochs=input_epochs, batch_size=input_batch_size, verbose=2, shuffle=False)\n",
    "# 模型预测\n",
    "test_predict = model.predict(X_test)\n",
    "# # 串联多个迭代对象，形成更大的迭代对象\n",
    "# test_data_list = list(chain(*test_data))\n",
    "# test_predict_list = list(chain(*test_predict))\n"
   ]
  },
  {
   "cell_type": "code",
   "execution_count": 54,
   "metadata": {},
   "outputs": [
    {
     "data": {
      "text/plain": [
       "<matplotlib.legend.Legend at 0x7f70788275f8>"
      ]
     },
     "execution_count": 54,
     "metadata": {},
     "output_type": "execute_result"
    },
    {
     "data": {
      "image/png": "[encoded data removed]",
      "text/plain": [
       "<Figure size 432x288 with 1 Axes>"
      ]
     },
     "metadata": {
      "needs_background": "light"
     },
     "output_type": "display_data"
    }
   ],
   "source": [
    "# 对比测试数据和预测数据\n",
    "import matplotlib.pyplot as plt\n",
    "plt.plot(test_predict)\n",
    "plt.plot(y_test, 'r')\n",
    "plt.legend(['predict', 'true'])"
   ]
  }
 ],
 "metadata": {
  "kernelspec": {
   "display_name": "Python 3",
   "language": "python",
   "name": "python3"
  },
  "language_info": {
   "codemirror_mode": {
    "name": "ipython",
    "version": 3
   },
   "file_extension": ".py",
   "mimetype": "text/x-python",
   "name": "python",
   "nbconvert_exporter": "python",
   "pygments_lexer": "ipython3",
   "version": "3.7.9"
  }
 },
 "nbformat": 4,
 "nbformat_minor": 4
}
