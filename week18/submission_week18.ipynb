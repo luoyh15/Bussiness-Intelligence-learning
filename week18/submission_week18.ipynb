{
 "cells": [
  {
   "cell_type": "markdown",
   "metadata": {},
   "source": [
    "# 特征工程\n",
    "1. 神经网络：一般不需要构建复杂的特征工程(nn_features.py)\n",
    "  - 数值特征：增加了model, regionCode的统计特征，然后归一化处理\n",
    "  - 类别特征：二值特征直接算作数值特征，另外的多值特征做label encoder\n",
    "  \n",
    "\n",
    "2. lightGBM: 需要做复杂的特征工程(lgb_features.py)\n",
    "  - 数值特征：把所有的类别特征做groupby然后统计\n",
    "  - 类别特征：做label encoder\n",
    "  \n",
    "# 模型构建\n",
    "1. 神经网络：漏斗形，256-128-64(nn_model.py)\n",
    "  - 类别特征：这里用了embedding处理类别特征\n",
    "\n",
    "2. lightGBM: 这里做了特征重要性分析，然后筛选了50个特征作为输入。(lgb_model.py)\n",
    "\n",
    "# 模型融合\n",
    "- 神经网络分数：429\n",
    "- lightGBM分数：488\n",
    "- 加权融合：0.9*nn+0.1*lgb=426"
   ]
  },
  {
   "cell_type": "code",
   "execution_count": 14,
   "metadata": {},
   "outputs": [
    {
     "name": "stderr",
     "output_type": "stream",
     "text": [
      "C:\\Users\\luoyh\\anaconda3\\envs\\bi_learning\\lib\\site-packages\\ipykernel_launcher.py:6: SettingWithCopyWarning: \n",
      "A value is trying to be set on a copy of a slice from a DataFrame.\n",
      "Try using .loc[row_indexer,col_indexer] = value instead\n",
      "\n",
      "See the caveats in the documentation: https://pandas.pydata.org/pandas-docs/stable/user_guide/indexing.html#returning-a-view-versus-a-copy\n",
      "  \n"
     ]
    }
   ],
   "source": [
    "import pandas as pd\n",
    "nn_submission = pd.read_csv('nn_submission.csv')\n",
    "lgb_submission = pd.read_csv('lgb_submission.csv')\n",
    "fusion_submisson = nn_submission[['SaleID']]\n",
    "p = 0.9\n",
    "fusion_submisson['price'] = p*nn_submission['price']+(1-p)*lgb_submission['price']\n",
    "fusion_submisson.to_csv('fusion_submission.csv')"
   ]
  }
 ],
 "metadata": {
  "kernelspec": {
   "display_name": "Python 3",
   "language": "python",
   "name": "python3"
  },
  "language_info": {
   "codemirror_mode": {
    "name": "ipython",
    "version": 3
   },
   "file_extension": ".py",
   "mimetype": "text/x-python",
   "name": "python",
   "nbconvert_exporter": "python",
   "pygments_lexer": "ipython3",
   "version": "3.7.9"
  }
 },
 "nbformat": 4,
 "nbformat_minor": 4
}
