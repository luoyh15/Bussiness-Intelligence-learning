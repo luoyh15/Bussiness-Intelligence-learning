{
 "cells": [
  {
   "cell_type": "markdown",
   "metadata": {},
   "source": [
    "**Thinking1：如果你是某P2P租车的技术负责人，你会如何设计个性化推荐和搜索排序**"
   ]
  },
  {
   "cell_type": "markdown",
   "metadata": {},
   "source": [
    "1. car embedding:\n",
    "  - 使用近期的用户浏览数据进行车辆的embedding\n",
    "    - 点击的车、跳过的车、长时间停留的车、收藏的车、咨询的车、被车主拒绝的车、预定的车、最后一次长时间停留的车\n",
    "    - 用word2vec方法对上述数据进行训练，得到每辆车的embedding向量\n",
    "  - 用户类型车类型的type embedding\n",
    "    - 先按静态特征对用户和车进行分类\n",
    "      - 车辆：品牌、车型、颜色、行驶里程数、出厂日期等\n",
    "      - 用户：年龄、职业、地域、性别等\n",
    "    - 使用长期的预定数据进行训练，得到不同类型的embedding\n",
    "2. search ranking:\n",
    "  - 建模：\n",
    "    - 对以往的搜索数据（近一段时间），根据用户点击行为对每一条搜索内容进行打分，得到训练的label\n",
    "    - 构建每一辆车的特征（用户、车辆的静态特征+交叉特征+各种embedding特征）\n",
    "    - 用GBDT算法训练得到模型\n",
    "  - 对新的搜索请求得到符合搜索条件的车辆的分数，进行排序\n",
    "3. 个性化推荐\n",
    "  - 冷启动：新用户可根据静态特征得到用户类别，推荐同类别用户中排名比较高的车辆\n",
    "  - 首页推荐：根据用户历史浏览数据，用embedding特征得到相似度较高的进行推荐\n",
    "  - 实时推荐：在用户点击过程中，进行实时embedding特征计算进行推荐"
   ]
  },
  {
   "cell_type": "markdown",
   "metadata": {},
   "source": [
    "**Action1: 信用卡违约率检测**"
   ]
  },
  {
   "cell_type": "code",
   "execution_count": 1,
   "metadata": {},
   "outputs": [],
   "source": [
    "import pandas as pd\n",
    "import numpy as np\n",
    "from sklearn.model_selection import train_test_split, GridSearchCV\n",
    "from sklearn.svm import SVC\n",
    "from sklearn.tree import DecisionTreeClassifier\n",
    "from sklearn.ensemble import RandomForestClassifier\n",
    "from sklearn.neighbors import KNeighborsClassifier\n",
    "from sklearn.pipeline import Pipeline\n",
    "from sklearn.preprocessing import StandardScaler\n",
    "from sklearn.metrics import accuracy_score"
   ]
  },
  {
   "cell_type": "code",
   "execution_count": 2,
   "metadata": {},
   "outputs": [],
   "source": [
    "# 读入数据\n",
    "data = pd.read_csv('./UCI_Credit_Card.csv')"
   ]
  },
  {
   "cell_type": "code",
   "execution_count": 11,
   "metadata": {},
   "outputs": [],
   "source": [
    "# 获取训练数据\n",
    "X = data.drop(['ID', 'default.payment.next.month'], axis=1).values\n",
    "y = data['default.payment.next.month'].values"
   ]
  },
  {
   "cell_type": "code",
   "execution_count": 13,
   "metadata": {},
   "outputs": [],
   "source": [
    "# 训练测试集切分\n",
    "X_train, X_test, y_train, y_test = train_test_split(X, y, test_size=0.3)"
   ]
  },
  {
   "cell_type": "code",
   "execution_count": 14,
   "metadata": {},
   "outputs": [],
   "source": [
    "# 模型\n",
    "classifiers = [\n",
    "    SVC(),\n",
    "    DecisionTreeClassifier(),\n",
    "    RandomForestClassifier(),\n",
    "    KNeighborsClassifier()\n",
    "]\n",
    "# 模型名字\n",
    "classifier_names = [\n",
    "    'svc',\n",
    "    'decisiontreeclassifier',\n",
    "    'randomforestclassifier',\n",
    "    'kneighborsclassifier'\n",
    "]\n",
    "# 参数范围\n",
    "classifier_param_grid = [\n",
    "    {'svc__C':[1], 'svc__gamma':[0.01, 0.05, 0.1]}, #best=0.05\n",
    "#     {'decisiontreeclassifier__max_depth':[6,9,11]}, # best=6\n",
    "    {'decisiontreeclassifier__max_depth':[2,4,6]}, # best=4\n",
    "#     {'randomforestclassifier__n_estimators':[3,5,6]},# best=6\n",
    "    {'randomforestclassifier__n_estimators':[6,7,8]},#best=8\n",
    "#     {'kneighborsclassifier__n_neighbors':[4,6,8]}, #best 8\n",
    "    {'kneighborsclassifier__n_neighbors':[8, 10, 12]},#best 12\n",
    "]"
   ]
  },
  {
   "cell_type": "code",
   "execution_count": 65,
   "metadata": {},
   "outputs": [],
   "source": [
    "# 用GridSearch寻找最优参数\n",
    "def GridSearchCV_work(pipeline, X_train, y_train, X_test, y_test, model_param_grid , score = 'accuracy'):\n",
    "    grid_search = GridSearchCV( estimator=pipeline, param_grid=model_param_grid, scoring=score)\n",
    "    # 最优参数\n",
    "    search = grid_search.fit(X_train, y_train)\n",
    "    print('GridSearchCV best parameters:', search.best_params_)\n",
    "    print('GridSearchCV best score:', search.best_score_)\n",
    "    y_pred = grid_search.predict(X_test)\n",
    "    accuracy = accuracy_score(y_pred, y_test)\n",
    "    print(f'accuracy{accuracy:.4f}')\n",
    "    \n",
    "    response = {}\n",
    "    response['y_pred'] = y_pred\n",
    "    response['accuracy'] = accuracy\n",
    "    return response"
   ]
  },
  {
   "cell_type": "code",
   "execution_count": 36,
   "metadata": {},
   "outputs": [
    {
     "name": "stdout",
     "output_type": "stream",
     "text": [
      "GridSearchCV best parameters: {'svc__C': 1, 'svc__gamma': 0.05}\n",
      "GridSearchCV best score: 0.8181428571428573\n",
      "accuracy0.8216\n",
      "GridSearchCV best parameters: {'decisiontreeclassifier__max_depth': 4}\n",
      "GridSearchCV best score: 0.8186666666666665\n",
      "accuracy0.8209\n",
      "GridSearchCV best parameters: {'randomforestclassifier__n_estimators': 8}\n",
      "GridSearchCV best score: 0.8002380952380952\n",
      "accuracy0.7983\n",
      "GridSearchCV best parameters: {'kneighborsclassifier__n_neighbors': 12}\n",
      "GridSearchCV best score: 0.8062380952380952\n",
      "accuracy0.8082\n"
     ]
    }
   ],
   "source": [
    "# 遍历所有模型找到最优模型和最优参数\n",
    "for model, model_name, model_param_grid in zip(classifiers, classifier_names, classifier_param_grid):\n",
    "    pipeline = Pipeline([\n",
    "            ('scaler', StandardScaler()),\n",
    "            (model_name, model)\n",
    "    ])\n",
    "    result = GridSearchCV_work(pipeline, X_train, y_train, X_test, y_test, model_param_grid , score = 'accuracy')\n"
   ]
  },
  {
   "cell_type": "markdown",
   "metadata": {},
   "source": [
    "**上述模型中，SVM(C=1, gamma=0.05)表现最好**"
   ]
  },
  {
   "cell_type": "markdown",
   "metadata": {},
   "source": [
    "**Action2：信用卡欺诈分析**"
   ]
  },
  {
   "cell_type": "code",
   "execution_count": 41,
   "metadata": {},
   "outputs": [],
   "source": [
    "import pandas as pd\n",
    "import numpy as np\n",
    "import matplotlib.pyplot as plt\n",
    "import seaborn as sns\n",
    "from sklearn.preprocessing import MinMaxScaler\n",
    "from sklearn.linear_model import LogisticRegression\n",
    "from imblearn.over_sampling import SMOTE\n",
    "from sklearn.model_selection import StratifiedKFold\n",
    "from sklearn.metrics import average_precision_score, precision_recall_curve, confusion_matrix, classification_report"
   ]
  },
  {
   "cell_type": "code",
   "execution_count": 2,
   "metadata": {},
   "outputs": [],
   "source": [
    "# 读取数据\n",
    "path = './L12/credit_fraud/creditcard.csv'\n",
    "data = pd.read_csv(path)"
   ]
  },
  {
   "cell_type": "code",
   "execution_count": 3,
   "metadata": {},
   "outputs": [
    {
     "data": {
      "image/png": "[encoded data removed]",
      "text/plain": [
       "<Figure size 432x288 with 1 Axes>"
      ]
     },
     "metadata": {
      "needs_background": "light"
     },
     "output_type": "display_data"
    },
    {
     "name": "stdout",
     "output_type": "stream",
     "text": [
      "No Frauds: 99.83% of the dataset\n",
      "Frauds: 0.17% of the dataset\n"
     ]
    }
   ],
   "source": [
    "# 数据探索：正负样本非常不平衡\n",
    "sns.countplot(x='Class', data=data)\n",
    "plt.title('Class Distributions \\n (0: No Fraud || 1: Fraud)', fontsize=14)\n",
    "plt.show()\n",
    "print(f'No Frauds: {round(data[\"Class\"].value_counts()[0]/len(data) * 100,2)}% of the dataset')\n",
    "print(f'Frauds: {round(data[\"Class\"].value_counts()[1]/len(data) * 100,2)}% of the dataset')"
   ]
  },
  {
   "cell_type": "code",
   "execution_count": 10,
   "metadata": {},
   "outputs": [
    {
     "name": "stdout",
     "output_type": "stream",
     "text": [
      "Label Distributions: \n",
      "Train(0.1729%Fraud)\n",
      "Test(0.1720%Fraud)\n"
     ]
    }
   ],
   "source": [
    "# 数据归一化, 由于其他features已经做了归一化\n",
    "scaler = MinMaxScaler()\n",
    "data['Amount'] = scaler.fit_transform(data[['Amount']].values)\n",
    "X = data.drop(['Class', 'Time'], axis=1).values\n",
    "y = data['Class'].values\n",
    "# 由于正负样本极度不平衡，需要保持Train/Test中的正负样本比例\n",
    "sss = StratifiedShuffleSplit(n_splits=1, test_size=0.2, random_state=2021)\n",
    "train_index, test_index = list(sss.split(X, y))[0]\n",
    "X_train, X_test = X[train_index], X[test_index]\n",
    "y_train, y_test = y[train_index], y[test_index]\n",
    "# Train/Test正负样本分布\n",
    "print(f'Label Distributions: \\n\\\n",
    "Train({y_train.sum()/ len(y_train)*100:.4f}%Fraud)\\n\\\n",
    "Test({y_test.sum()/ len(y_test)*100:.04f}%Fraud)')"
   ]
  },
  {
   "cell_type": "code",
   "execution_count": 38,
   "metadata": {
    "scrolled": true
   },
   "outputs": [],
   "source": [
    "# 使用LR模型进行拟合\n",
    "# 5 fold交叉验证, 这里保持各类别的比重\n",
    "sss = StratifiedKFold(n_splits=5, shuffle=True, random_state=2021)\n",
    "# 存储五个模型\n",
    "models = []\n",
    "for train, test in sss.split(X_train, y_train):\n",
    "    model = LogisticRegression(solver='liblinear') \n",
    "    model.fit(X_train[train], y_train[train])\n",
    "    models.append(model)"
   ]
  },
  {
   "cell_type": "code",
   "execution_count": 42,
   "metadata": {},
   "outputs": [],
   "source": [
    "'''进行预测'''\n",
    "def predict(models):\n",
    "    # 存储概率值\n",
    "    y_probs = []\n",
    "    for model in models:\n",
    "        y_prob = model.predict_proba(X_test)\n",
    "        # 只取类别1也就是Fraud的概率\n",
    "        y_probs.append(y_prob[:,1])\n",
    "    # 五个模型做平均\n",
    "    y_prob = np.array(y_probs).mean(axis=0)\n",
    "    # 预测值\n",
    "    y_pred = np.zeros(len(X_test))\n",
    "    y_pred[y_prob>0.5] = 1\n",
    "    \n",
    "    return y_prob, y_pred\n",
    "\n",
    "y_prob, y_pred = predict(models)"
   ]
  },
  {
   "cell_type": "code",
   "execution_count": 43,
   "metadata": {},
   "outputs": [
    {
     "data": {
      "image/png": "[encoded data removed]",
      "text/plain": [
       "<Figure size 432x288 with 2 Axes>"
      ]
     },
     "metadata": {
      "needs_background": "light"
     },
     "output_type": "display_data"
    }
   ],
   "source": [
    "'''混淆矩阵'''\n",
    "def plot_confusion_matrix(y_test, y_pred):\n",
    "    cf = confusion_matrix(y_test, y_pred)\n",
    "    sns.heatmap(cf, annot=True, cmap=plt.cm.copper)\n",
    "    plt.title(\"Logistic Regression \\n Confusion Matrix\", fontsize=14)\n",
    "    plt.xticks(ticks=[0.5, 1.5], labels=['Not Fraud', 'Fraud'], fontsize=10, rotation=0)\n",
    "    plt.xlabel('Predict Label', fontsize=14)\n",
    "    plt.yticks(ticks=[0.5, 1.5], labels=['Not Fraud', 'Fraud'], fontsize=10, rotation=90)\n",
    "    plt.ylabel('True label', fontsize=14)\n",
    "    plt.show()\n",
    "\n",
    "plot_confusion_matrix(y_test, y_pred)"
   ]
  },
  {
   "cell_type": "code",
   "execution_count": 57,
   "metadata": {},
   "outputs": [
    {
     "data": {
      "image/png": "[encoded data removed]",
      "text/plain": [
       "<Figure size 432x288 with 1 Axes>"
      ]
     },
     "metadata": {
      "needs_background": "light"
     },
     "output_type": "display_data"
    }
   ],
   "source": [
    "'''准确率-召回率曲线'''\n",
    "def plot_precision_recall(y_test, y_prob):\n",
    "    average_precision = average_precision_score(y_test, y_prob)\n",
    "    precision, recall, _ = precision_recall_curve(y_test, y_prob)\n",
    "\n",
    "    plt.step(recall, precision, color='r', alpha=0.2, where='post')\n",
    "    plt.fill_between(recall, precision, step='post', alpha=0.2, color='#F59B00')\n",
    "\n",
    "    plt.xlabel('Recall')\n",
    "    plt.ylabel('Precision')\n",
    "    plt.ylim([0.0, 1.0])\n",
    "    plt.xlim([0.0, 1.0])\n",
    "    plt.title(f'Precision-Recall curve: \\n Average Precision-Recall Score ={average_precision:.2f}', fontsize=16)\n",
    "    plt.show()\n",
    "    \n",
    "plot_precision_recall(y_test, y_prob)"
   ]
  },
  {
   "cell_type": "code",
   "execution_count": 47,
   "metadata": {},
   "outputs": [
    {
     "name": "stdout",
     "output_type": "stream",
     "text": [
      "              precision    recall  f1-score   support\n",
      "\n",
      "           0       1.00      1.00      1.00     56864\n",
      "           1       0.85      0.57      0.68        98\n",
      "\n",
      "    accuracy                           1.00     56962\n",
      "   macro avg       0.92      0.79      0.84     56962\n",
      "weighted avg       1.00      1.00      1.00     56962\n",
      "\n"
     ]
    }
   ],
   "source": [
    "# 分类器性能报告\n",
    "print(classification_report(y_test, y_pred))"
   ]
  },
  {
   "cell_type": "markdown",
   "metadata": {},
   "source": [
    "**可以看到这里的class=1的recall(TPR)比较低，也就是欺诈的检出率比较低**  \n",
    "注意到欺诈样本所占比重很低，所以模型比较难检出欺诈也是比较合理的。  \n",
    "后面我们用SMOTE算法对欺诈样本进行过采样，增加欺诈样本的比重。"
   ]
  },
  {
   "cell_type": "code",
   "execution_count": 60,
   "metadata": {
    "scrolled": true
   },
   "outputs": [],
   "source": [
    "# 用SMOTE算法对少数样本进行过采样，使得两个类别权重相等\n",
    "sampler = SMOTE(sampling_strategy='minority', random_state=20)\n",
    "# 5 fold交叉验证\n",
    "sss = StratifiedKFold(n_splits=5, shuffle=True, random_state=2021)\n",
    "# 存储五个模型\n",
    "models_sm = []\n",
    "for train, test in sss.split(X_train, y_train):\n",
    "    X_sm, y_sm = sampler.fit_sample(X_train[train], y_train[train])\n",
    "    model_sm = LogisticRegression(solver='liblinear')\n",
    "    model_sm.fit(X_sm,y_sm)\n",
    "    models_sm.append(model_sm)"
   ]
  },
  {
   "cell_type": "code",
   "execution_count": 61,
   "metadata": {},
   "outputs": [],
   "source": [
    "'''进行预测'''\n",
    "y_prob_sm, y_pred_sm = predict(models_sm)"
   ]
  },
  {
   "cell_type": "code",
   "execution_count": 62,
   "metadata": {},
   "outputs": [
    {
     "data": {
      "image/png": "[encoded data removed]",
      "text/plain": [
       "<Figure size 432x288 with 2 Axes>"
      ]
     },
     "metadata": {
      "needs_background": "light"
     },
     "output_type": "display_data"
    }
   ],
   "source": [
    "'''混淆矩阵'''\n",
    "plot_confusion_matrix(y_test, y_pred_sm)"
   ]
  },
  {
   "cell_type": "code",
   "execution_count": 63,
   "metadata": {},
   "outputs": [
    {
     "data": {
      "image/png": "[encoded data removed]",
      "text/plain": [
       "<Figure size 432x288 with 1 Axes>"
      ]
     },
     "metadata": {
      "needs_background": "light"
     },
     "output_type": "display_data"
    }
   ],
   "source": [
    "'''准确率-召回率曲线'''\n",
    "plot_precision_recall(y_test, y_prob_sm)"
   ]
  },
  {
   "cell_type": "code",
   "execution_count": 64,
   "metadata": {},
   "outputs": [
    {
     "name": "stdout",
     "output_type": "stream",
     "text": [
      "              precision    recall  f1-score   support\n",
      "\n",
      "           0       1.00      0.97      0.99     56864\n",
      "           1       0.05      0.91      0.10        98\n",
      "\n",
      "    accuracy                           0.97     56962\n",
      "   macro avg       0.53      0.94      0.54     56962\n",
      "weighted avg       1.00      0.97      0.98     56962\n",
      "\n"
     ]
    }
   ],
   "source": [
    "# 分类器性能报告\n",
    "print(classification_report(y_test, y_pred_sm))"
   ]
  },
  {
   "cell_type": "markdown",
   "metadata": {},
   "source": [
    "**1. 可以看到这里recall=0.91已经很高了，说明欺诈的检出率提高了很多，由于我们把欺诈样本的比重提高了**  \n",
    "2. 与此同时precision=0.05变低了很多，说明把许多不是欺诈的事件当成了欺诈。  \n",
    "3. 其实这里就是一个**权衡**，可以通过改变欺诈样本采样的比例来调节。（这里把欺诈样本比例过采样到0.5，可能有点过高了）  \n",
    "4. 就信用卡欺诈来说，我们希望不放过任何一笔欺诈交易，但precision过低会引起用户满意度下降。  "
   ]
  },
  {
   "cell_type": "code",
   "execution_count": null,
   "metadata": {},
   "outputs": [],
   "source": []
  }
 ],
 "metadata": {
  "kernelspec": {
   "display_name": "Python 3",
   "language": "python",
   "name": "python3"
  },
  "language_info": {
   "codemirror_mode": {
    "name": "ipython",
    "version": 3
   },
   "file_extension": ".py",
   "mimetype": "text/x-python",
   "name": "python",
   "nbconvert_exporter": "python",
   "pygments_lexer": "ipython3",
   "version": "3.7.9"
  }
 },
 "nbformat": 4,
 "nbformat_minor": 4
}
