{
 "cells": [
  {
   "cell_type": "code",
   "execution_count": 1,
   "metadata": {},
   "outputs": [],
   "source": [
    "import pandas as pd\n",
    "\n",
    "dataset = pd.read_csv('./supplychain/SupplyChain.csv', encoding='unicode_escape' )"
   ]
  },
  {
   "cell_type": "code",
   "execution_count": 3,
   "metadata": {},
   "outputs": [
    {
     "name": "stdout",
     "output_type": "stream",
     "text": [
      "<class 'pandas.core.frame.DataFrame'>\n",
      "RangeIndex: 180519 entries, 0 to 180518\n",
      "Data columns (total 53 columns):\n",
      " #   Column                         Non-Null Count   Dtype  \n",
      "---  ------                         --------------   -----  \n",
      " 0   Type                           180519 non-null  object \n",
      " 1   Days for shipping (real)       180519 non-null  int64  \n",
      " 2   Days for shipment (scheduled)  180519 non-null  int64  \n",
      " 3   Benefit per order              180519 non-null  float64\n",
      " 4   Sales per customer             180519 non-null  float64\n",
      " 5   Delivery Status                180519 non-null  object \n",
      " 6   Late_delivery_risk             180519 non-null  int64  \n",
      " 7   Category Id                    180519 non-null  int64  \n",
      " 8   Category Name                  180519 non-null  object \n",
      " 9   Customer City                  180519 non-null  object \n",
      " 10  Customer Country               180519 non-null  object \n",
      " 11  Customer Email                 180519 non-null  object \n",
      " 12  Customer Fname                 180519 non-null  object \n",
      " 13  Customer Id                    180519 non-null  int64  \n",
      " 14  Customer Lname                 180511 non-null  object \n",
      " 15  Customer Password              180519 non-null  object \n",
      " 16  Customer Segment               180519 non-null  object \n",
      " 17  Customer State                 180519 non-null  object \n",
      " 18  Customer Street                180519 non-null  object \n",
      " 19  Customer Zipcode               180516 non-null  float64\n",
      " 20  Department Id                  180519 non-null  int64  \n",
      " 21  Department Name                180519 non-null  object \n",
      " 22  Latitude                       180519 non-null  float64\n",
      " 23  Longitude                      180519 non-null  float64\n",
      " 24  Market                         180519 non-null  object \n",
      " 25  Order City                     180519 non-null  object \n",
      " 26  Order Country                  180519 non-null  object \n",
      " 27  Order Customer Id              180519 non-null  int64  \n",
      " 28  order date (DateOrders)        180519 non-null  object \n",
      " 29  Order Id                       180519 non-null  int64  \n",
      " 30  Order Item Cardprod Id         180519 non-null  int64  \n",
      " 31  Order Item Discount            180519 non-null  float64\n",
      " 32  Order Item Discount Rate       180519 non-null  float64\n",
      " 33  Order Item Id                  180519 non-null  int64  \n",
      " 34  Order Item Product Price       180519 non-null  float64\n",
      " 35  Order Item Profit Ratio        180519 non-null  float64\n",
      " 36  Order Item Quantity            180519 non-null  int64  \n",
      " 37  Sales                          180519 non-null  float64\n",
      " 38  Order Item Total               180519 non-null  float64\n",
      " 39  Order Profit Per Order         180519 non-null  float64\n",
      " 40  Order Region                   180519 non-null  object \n",
      " 41  Order State                    180519 non-null  object \n",
      " 42  Order Status                   180519 non-null  object \n",
      " 43  Order Zipcode                  24840 non-null   float64\n",
      " 44  Product Card Id                180519 non-null  int64  \n",
      " 45  Product Category Id            180519 non-null  int64  \n",
      " 46  Product Description            0 non-null       float64\n",
      " 47  Product Image                  180519 non-null  object \n",
      " 48  Product Name                   180519 non-null  object \n",
      " 49  Product Price                  180519 non-null  float64\n",
      " 50  Product Status                 180519 non-null  int64  \n",
      " 51  shipping date (DateOrders)     180519 non-null  object \n",
      " 52  Shipping Mode                  180519 non-null  object \n",
      "dtypes: float64(15), int64(14), object(24)\n",
      "memory usage: 73.0+ MB\n"
     ]
    }
   ],
   "source": [
    "dataset.info()"
   ]
  },
  {
   "cell_type": "markdown",
   "metadata": {},
   "source": [
    "### 欺诈订单预测"
   ]
  },
  {
   "cell_type": "code",
   "execution_count": 50,
   "metadata": {},
   "outputs": [],
   "source": [
    "from sklearn.linear_model import LogisticRegressionCV\n",
    "from sklearn.model_selection import train_test_split\n",
    "from sklearn.preprocessing import MinMaxScaler\n",
    "from sklearn.metrics import confusion_matrix"
   ]
  },
  {
   "cell_type": "code",
   "execution_count": 53,
   "metadata": {},
   "outputs": [
    {
     "name": "stderr",
     "output_type": "stream",
     "text": [
      "[Parallel(n_jobs=1)]: Using backend SequentialBackend with 1 concurrent workers.\n",
      "[Parallel(n_jobs=1)]: Done   5 out of   5 | elapsed:   12.4s finished\n"
     ]
    },
    {
     "data": {
      "text/plain": [
       "LogisticRegressionCV(cv=5, max_iter=10000, tol=1, verbose=1)"
      ]
     },
     "execution_count": 53,
     "metadata": {},
     "output_type": "execute_result"
    }
   ],
   "source": [
    "num_features = ['Days for shipping (real)', 'Days for shipment (scheduled)', \n",
    "                'Benefit per order', 'Sales per customer', 'Latitude', 'Longitude',\n",
    "               'Order Item Discount', 'Order Item Discount Rate', \n",
    "                'Order Item Product Price', 'Order Item Profit Ratio', 'Order Item Quantity',\n",
    "               'Sales', 'Order Item Total', 'Order Profit Per Order', 'Product Price',]\n",
    "\n",
    "cat_features = ['Market', 'Delivery Status', 'Late_delivery_risk', 'Shipping Mode']\n",
    "\n",
    "# features\n",
    "X = dataset[num_features]\n",
    "# 归一化\n",
    "mm = MinMaxScaler()\n",
    "X = pd.DataFrame(mm.fit_transform(X.values))\n",
    "# 分类数据\n",
    "for col in cat_features:\n",
    "    X = pd.concat([X, pd.get_dummies(dataset[col], prefix=col)], axis=1)\n",
    "# labels \n",
    "y = dataset['Order Status'].apply(lambda x: 1 if x=='SUSPECTED_FRAUD' else 0)\n",
    "\n",
    "# split\n",
    "X_train, X_test, y_train, y_test = train_test_split(X, y, test_size=0.2)\n",
    "# logistic regression for classifier\n",
    "model = LogisticRegressionCV(cv=5, verbose=1, tol=1, max_iter=10000)\n",
    "model.fit(X_train, y_train)"
   ]
  },
  {
   "cell_type": "code",
   "execution_count": 54,
   "metadata": {},
   "outputs": [
    {
     "data": {
      "text/plain": [
       "array([[34680,   604],\n",
       "       [  137,   683]], dtype=int64)"
      ]
     },
     "execution_count": 54,
     "metadata": {},
     "output_type": "execute_result"
    }
   ],
   "source": [
    "# prediction\n",
    "y_pred = model.predict(X_test)\n",
    "# confusion matrix\n",
    "confusion_matrix(y_test, y_pred)"
   ]
  },
  {
   "cell_type": "markdown",
   "metadata": {},
   "source": [
    "**LR分类效果一般**"
   ]
  },
  {
   "cell_type": "markdown",
   "metadata": {},
   "source": [
    "### 迟交货订单进行预测"
   ]
  },
  {
   "cell_type": "code",
   "execution_count": 61,
   "metadata": {},
   "outputs": [
    {
     "name": "stderr",
     "output_type": "stream",
     "text": [
      "[Parallel(n_jobs=1)]: Using backend SequentialBackend with 1 concurrent workers.\n",
      "[Parallel(n_jobs=1)]: Done   5 out of   5 | elapsed:   20.3s finished\n"
     ]
    },
    {
     "data": {
      "text/plain": [
       "LogisticRegressionCV(cv=5, max_iter=10000, tol=1, verbose=1)"
      ]
     },
     "execution_count": 61,
     "metadata": {},
     "output_type": "execute_result"
    }
   ],
   "source": [
    "# 需要去掉'Days for shipping (real)', 'Days for shipment (scheduled)' 不然标签泄露\n",
    "num_features = [ \n",
    "                'Benefit per order', 'Sales per customer', 'Latitude', 'Longitude',\n",
    "               'Order Item Discount', 'Order Item Discount Rate', \n",
    "                'Order Item Product Price', 'Order Item Profit Ratio', 'Order Item Quantity',\n",
    "               'Sales', 'Order Item Total', 'Order Profit Per Order', 'Product Price',]\n",
    "\n",
    "cat_features = ['Market', 'Order Status', 'Shipping Mode']\n",
    "\n",
    "# features\n",
    "X = dataset[num_features]\n",
    "# 归一化\n",
    "mm = MinMaxScaler()\n",
    "X = pd.DataFrame(mm.fit_transform(X.values))\n",
    "# 分类数据\n",
    "for col in cat_features:\n",
    "    X = pd.concat([X, pd.get_dummies(dataset[col], prefix=col)], axis=1)\n",
    "# labels \n",
    "y = dataset['Delivery Status'].apply(lambda x: 1 if x=='Late delivery' else 0)\n",
    "\n",
    "# split\n",
    "X_train, X_test, y_train, y_test = train_test_split(X, y, test_size=0.2)\n",
    "# logistic regression for classifier\n",
    "model = LogisticRegressionCV(cv=5, verbose=1, tol=1, max_iter=10000)\n",
    "model.fit(X_train, y_train)"
   ]
  },
  {
   "cell_type": "code",
   "execution_count": 62,
   "metadata": {},
   "outputs": [
    {
     "data": {
      "text/plain": [
       "array([[14985,  1315],\n",
       "       [ 9214, 10590]], dtype=int64)"
      ]
     },
     "execution_count": 62,
     "metadata": {},
     "output_type": "execute_result"
    }
   ],
   "source": [
    "# prediction\n",
    "y_pred = model.predict(X_test)\n",
    "# confusion matrix\n",
    "confusion_matrix(y_test, y_pred)"
   ]
  },
  {
   "cell_type": "markdown",
   "metadata": {},
   "source": [
    "### 销售预测"
   ]
  },
  {
   "cell_type": "code",
   "execution_count": 65,
   "metadata": {},
   "outputs": [],
   "source": [
    "from sklearn.linear_model import LinearRegression\n",
    "from sklearn.model_selection import train_test_split\n",
    "from sklearn.preprocessing import MinMaxScaler\n",
    "from sklearn.metrics import mean_squared_error"
   ]
  },
  {
   "cell_type": "code",
   "execution_count": 64,
   "metadata": {},
   "outputs": [
    {
     "data": {
      "text/plain": [
       "LinearRegression()"
      ]
     },
     "execution_count": 64,
     "metadata": {},
     "output_type": "execute_result"
    }
   ],
   "source": [
    "num_features = ['Days for shipping (real)', 'Days for shipment (scheduled)', \n",
    "                'Benefit per order', 'Sales per customer', 'Latitude', 'Longitude',\n",
    "               'Order Item Discount', 'Order Item Discount Rate', \n",
    "                'Order Item Product Price', 'Order Item Profit Ratio', 'Order Item Quantity',\n",
    "                'Order Item Total', 'Order Profit Per Order', 'Product Price',]\n",
    "\n",
    "cat_features = ['Market', 'Delivery Status', 'Late_delivery_risk', 'Shipping Mode']\n",
    "\n",
    "# features\n",
    "X = dataset[num_features]\n",
    "# 归一化\n",
    "mm = MinMaxScaler()\n",
    "X = pd.DataFrame(mm.fit_transform(X.values))\n",
    "# 分类数据\n",
    "for col in cat_features:\n",
    "    X = pd.concat([X, pd.get_dummies(dataset[col], prefix=col)], axis=1)\n",
    "# labels \n",
    "y = dataset['Sales']\n",
    "\n",
    "# split\n",
    "X_train, X_test, y_train, y_test = train_test_split(X, y, test_size=0.2)\n",
    "# linear regression\n",
    "model = LinearRegression()\n",
    "model.fit(X_train, y_train)"
   ]
  },
  {
   "cell_type": "code",
   "execution_count": 66,
   "metadata": {},
   "outputs": [
    {
     "name": "stdout",
     "output_type": "stream",
     "text": [
      "2.349991802023261e-06\n"
     ]
    }
   ],
   "source": [
    "# predition\n",
    "y_pred = model.predict(X_test)\n",
    "# mse\n",
    "mse = mean_squared_error(y_test, y_pred)\n",
    "print(mse)"
   ]
  },
  {
   "cell_type": "markdown",
   "metadata": {},
   "source": [
    "### 订货数量"
   ]
  },
  {
   "cell_type": "code",
   "execution_count": 70,
   "metadata": {},
   "outputs": [
    {
     "data": {
      "text/plain": [
       "LinearRegression()"
      ]
     },
     "execution_count": 70,
     "metadata": {},
     "output_type": "execute_result"
    }
   ],
   "source": [
    "num_features = ['Days for shipping (real)', 'Days for shipment (scheduled)', \n",
    "                'Benefit per order', 'Sales per customer', 'Latitude', 'Longitude',\n",
    "               'Order Item Discount', 'Order Item Discount Rate', \n",
    "                'Order Item Product Price', 'Order Item Profit Ratio', \n",
    "               'Sales', 'Order Item Total', 'Order Profit Per Order', 'Product Price',]\n",
    "\n",
    "cat_features = ['Market', 'Delivery Status', 'Late_delivery_risk', 'Shipping Mode']\n",
    "\n",
    "# features\n",
    "X = dataset[num_features]\n",
    "# 归一化\n",
    "mm = MinMaxScaler()\n",
    "X = pd.DataFrame(mm.fit_transform(X.values))\n",
    "# 分类数据\n",
    "for col in cat_features:\n",
    "    X = pd.concat([X, pd.get_dummies(dataset[col], prefix=col)], axis=1)\n",
    "# labels \n",
    "y = dataset['Order Item Quantity']\n",
    "\n",
    "# split\n",
    "X_train, X_test, y_train, y_test = train_test_split(X, y, test_size=0.2)\n",
    "# linear regression \n",
    "model = LinearRegression()\n",
    "model.fit(X_train, y_train)"
   ]
  },
  {
   "cell_type": "code",
   "execution_count": 71,
   "metadata": {},
   "outputs": [
    {
     "name": "stdout",
     "output_type": "stream",
     "text": [
      "0.33462939068135195\n"
     ]
    }
   ],
   "source": [
    "# predition\n",
    "y_pred = model.predict(X_test)\n",
    "# mse\n",
    "mse = mean_squared_error(y_test, y_pred)\n",
    "print(mse)"
   ]
  },
  {
   "cell_type": "code",
   "execution_count": null,
   "metadata": {},
   "outputs": [],
   "source": []
  }
 ],
 "metadata": {
  "kernelspec": {
   "display_name": "Python 3",
   "language": "python",
   "name": "python3"
  },
  "language_info": {
   "codemirror_mode": {
    "name": "ipython",
    "version": 3
   },
   "file_extension": ".py",
   "mimetype": "text/x-python",
   "name": "python",
   "nbconvert_exporter": "python",
   "pygments_lexer": "ipython3",
   "version": "3.7.9"
  }
 },
 "nbformat": 4,
 "nbformat_minor": 4
}
